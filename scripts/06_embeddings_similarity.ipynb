{
 "cells": [
  {
   "cell_type": "code",
   "execution_count": 14,
   "id": "820f55ff-10a7-49a7-a11a-559d755e7c4d",
   "metadata": {},
   "outputs": [],
   "source": [
    "import torch\n",
    "from transformers import CamembertModel, CamembertTokenizer\n",
    "from sentence_transformers import SentenceTransformer\n",
    "import pandas as pd"
   ]
  },
  {
   "cell_type": "markdown",
   "id": "766f2ac9-fbb0-4429-bbc2-6c0868485b2b",
   "metadata": {},
   "source": [
    "## Get embeddings"
   ]
  },
  {
   "cell_type": "code",
   "execution_count": 2,
   "id": "96b3eb3f-ff67-4a62-aabf-bdad2a2eae79",
   "metadata": {},
   "outputs": [],
   "source": [
    "text_to_complete = ['C’était un berger monté sur ses échasses, marchant à pas de faucheux à travers les marécages et les sables. Ce spectacle n’était pas nouveau pour Sigognac, et il y faisait peu d’attention ; mais, si fort qu’il fût enfoncé dans sa rêverie, il ne put s’empêcher d’être préoccupé par un petit point brillant qui scintillait sous l’ombre encore fort noire du bouquet de sapins où nous avons laissé Agostin et Chiquita. Ce ne pouvait être une luciole ; la saison où l’amour illumine les vers luisants de son phosphore était passée depuis plusieurs mois. Etait-ce l’œil d’un oiseau de nuit borgne ? car il n’y avait qu’un point lumineux. Cette supposition ne satisfaisait pas Sigognac ; on eût dit le pétillement d’une mèche d’arquebuse allumée. Cependant le chariot marchait toujours, et, en se rapprochant de la sapinière, Sigognac crut démêler sur le bord de l’escarpement une rangée d’êtres bizarres plantés comme en embuscade et dont les premiers rayons du soleil levant ébauchaient vaguement les formes ; mais, à leur parfaite immobilité, il les prit pour de vieilles souches et se prit à rire en lui-même de son inquiétude, et il n’éveilla pas les comédiens comme il en avait d’abord eu l’idée. Le chariot fit encore quelques tours de roue. Le point brillant sur lequel Sigognac tenait toujours les yeux fixés se déplaça. Un long jet de feu sillonna un flot de fumée blanchâtre ; une forte détonation se fit entendre, et une balle s’aplatit sous le joug des bœufs, qui se jetèrent brusquement de côté, entraînant le chariot, qu’un tas de sable retint heureusement au bord du fossé. À la détonation et à la secousse, toute la troupe s’éveilla en sursaut ; les jeunes femmes se mirent à pousser des cris aigus. La vieille seule, faite aux aventures, garda le silence et prudemment glissa deux ou trois doublons serrés dans sa ceinture entre son bas et la semelle de son soulier. Debout, à la tête du char d’où les comédiens s’efforçaient de sortir, Agostin, sa cape de Valence roulée sur son bras, sa navaja au poing, criait d’une voix tonnante : « La bourse ou la vie ! toute résistance est inutile ; au moindre signe de rébellion ma troupe va vous arquebuser ! » Pendant que le bandit posait son ultimatum de grand chemin, le baron, dont le généreux cœur ne pouvait admettre l’insolence d’un pareil maroufle, avait tranquillement dégainé et fondait sur lui l’épée haute. Agostin parait les bottes du baron avec son manteau et épiait l’occasion de lui lancer sa navaja ; appuyant le manche du couteau à la saignée, et, balançant le bras d’un mouvement sec, il envoya la lame au ventre de Sigognac, à qui bien en prit de n’être pas obèse. Une légère retraite de côté lui fit éviter la pointe meurtrière ; la lame alla tomber à quelques pas plus loin. Agostin pâlit, car il était désarmé, et il savait que sa troupe d’épouvantail ne pouvait lui être d’aucun secours. Cependant, comptant sur un effet de terr', 'dis ?– Je dis qu’au moment où je me précipitai à la mer, j’entendis les hommes de barre s’écrier : « L’hélice et le gouvernail sont brisés… »– Brisés ?– Oui ! brisés par la dent du monstre. C’est la seule avarie, je pense, que l’Abraham-Lincoln ait éprouvée. Mais, circonstance fâcheuse pour nous, il ne gouverne plus.– Alors, nous sommes perdus !– Peut-être, répondit tranquillement Conseil. Cependant, nous avons encore quelques heures devant nous, et en quelques heures, on fait bien des choses ! »L’imperturbable sang-froid de Conseil me remonta. Je nageai plus vigoureusement ; mais, gêné par mes vêtements qui me serraient comme une chape de plomb, j’éprouvais une extrême difficulté à me soutenir. Conseil s’en aperçut.« Que monsieur me permette de lui faire une incision », dit-il.Et glissant un couteau ouvert sous mes habits, il les fendit de haut en bas d’un coup rapide. Puis, il m’en débarrassa lestement, tandis que je nageais pour tous deux.À mon tour, je rendis le même service à Conseil, et nous continuâmes de « naviguer » l’un près de l’autre.Cependant, la situation n’en était pas moins terrible. Peut-être notre disparition n’avait-elle pas été remarquée, et l’eût-elle été, la frégate ne pouvait revenir sous le vent à nous, étant démontée de son gouvernail. Il ne fallait donc compter que sur ses embarcations.Conseil raisonna froidement dans cette hypothèse et fit son plan en conséquence. Étonnante nature ! Ce phlegmatique garçon était là comme chez lui !Il fut donc décidé que notre seule chance de salut étant d’être recueillis par les embarcations de l’Abraham-Lincoln, nous devions nous organiser de manière à les attendre le plus longtemps possible. Je résolus alors de diviser nos forces afin de ne pas les épuiser simultanément, et voici ce qui fut convenu : pendant que l’un de nous, étendu sur le dos, se tiendrait, immobile, les bras croisés, les jambes allongées, l’autre nagerait et le pousserait en avant. Ce rôle de remorqueur ne devait pas durer plus de dix minutes, et nous relayant ainsi, nous pouvions surnager pendant quelques heures, et peut-être jusqu’au lever du jour.Faible chance ! mais l’espoir est si fortement enraciné au cœur de l’homme ! Puis, nous étions deux. Enfin je l’affirme bien que cela paraisse improbable, –, si je cherchais à détruire en moi toute illusion, si je voulais « désespérer », je ne le pouvais pas !La collision de la frégate et du cétacé s’était produite vers onze heures du soir environ. Je comptais donc sur huit heures de nage jusqu’au lever du soleil. Opération rigoureusement praticable, en nous relayant. La mer assez belle, nous fatiguait peu. Parfois, je cherchais à percer du regard ces épaisses ténèbres que rompait seule la phosphorescence provoquée par nos mouvements. Je regardais ces ondes lumineuses qui se brisaient sur ma main et dont la nappe miroitante se tachait de plaques livides. On eût dit que nous étions plongés dans un bain de mercure.Vers une heure du matin, je fus pris d’une extrême fatigue. Mes membres se raidirent sous l’étreinte de crampes violentes. Conseil dut me soutenir, et le soin de ', '1 Comment un démon tomba du ciel et comment il fut accueilli sur la terre LE NOUVEAU RÉCIT QUE nous entreprenons aujourd’hui de faire à nos lecteurs se déroule tout entier dans l’ Arizona, ancienne province du Mexique, annexée par les États-Unis, après tant d’autres, à leur colossale confédération, sans autre droit que celui de la force. Toutes les tentatives des Anglo-Saxons pour faire pénétrer la civilisation moderne dans cette terre rebelle furent faites en pure perte ; le gouvernement de Washington fut contraint d’y renoncer. Aussi aujourd’hui l’Arizona est-elle restée ce qu’elle était lorsqu’elle se nommait Cibola **et que Cabezade Vacca la découvrit au prix de fatigues et de périls terribles ; c’est-à-dire une contrée mystérieuse, pleine de légendes sinistres, de prodiges effrayants et inexpliqués ; peuplée d’animaux inconnus et féroces, ne ressemblant à aucuns autres ; dont le sol bouleversé est rempli de ruines de toutes sortes laissées par des peuples inconnus et qui depuis des siècles ont disparu. Aussi les plus braves coureurs des bois ne se risquent qu’en hésitant et avec une terreur secrète, à s’enfoncer dans ces forêts presque impénétrables, vieilles comme le monde, au fond desquelles on retrouve d’autres ruines qui servent de repaires aux fauves les plus redoutables et semblent avoir abrité des géants dans les anciens jours de la création. Ces déserts inexplorés, qui s’étendent à l’infini, renferment une nombreuse population nomade, composée des éléments les plus hétérogènes, hostiles les uns aux autres et se faisant une guerre sans merci, où le sang coule comme de l’eau sous les prétextes les plus futiles. Voici quelle est la population de l’Arizona : Les Indiens bravos, c’est-à-dire indomptés, les Comanches, les Apaches, les Pawnees et d’autres encore, qui prétendent avec raison être les maîtres du sol ; puis les coureurs des bois, les chasseurs et les trappeurs, les seuls honnêtes ; viennent ensuite les pirates des savanes, sang-mêlé pour la plupart, féroces, voleurs et assassins, sans foi ni loi ; et enfin les déclassés et les naufragés de toutes les civilisations du Vieux et du Nouveau Monde ; population anonyme sans nom dont les mauvais instincts n’ont aucun frein et ne connaissent que la force et la loi du talion, œil pour œil, dent pour dent, et ne s’inclinent que devant le juge Lynch. Et cependant cette contrée est la plus riche et la plus belle de l’univers, son climat est admirable, sa flore et sa faune sont incomparables et ses mines d’or, d’argent et de cuivre sont inépuisables ; aussi, espérons-nous que dans un avenir prochain l’Arizona entrera malgré elle dans la grande famille des peuples, tout**le fait prévoir : la civilisation marche en avant quand même, et le désert se rétrécit tous les jours. Un vendredi de la fin du mois de juin 187… entre quatre et cinq heures du soir, ainsi que l’indiquait l’ombre allongée des arbres sur le sol, un homme, qui semblait être un chasseur ou un coureur des bois, après avoir traversé à gué le rio Gila à son confluent avec le rio Puerco, fit halte sur la berge de']"
   ]
  },
  {
   "cell_type": "code",
   "execution_count": 3,
   "id": "6ec28721-39a0-449c-93d4-e130c0a1080e",
   "metadata": {},
   "outputs": [],
   "source": [
    "text_mistral = [\", il tenta de sortir du char dans le délire du combat en se projetant à terre face à ses adversaires, mais il toucha le sol en bas de l’avant-bras gauche et ne put le, \", \"le sang-froid dû à son impatience ne lui fit pas perdre de son sang-froid. C’étonna encore plus mon interlocuteur, qui semblait avoir été jeter à la mer du\", \" une vallée qui devait être le lieu d’une prochaine aventure. Il se couvrit de son casque, ramassa ses armes et levé le col de son cheval, le regardant avec\"]"
   ]
  },
  {
   "cell_type": "code",
   "execution_count": 5,
   "id": "4afc2569-baec-41ad-b208-a4c90b59cca4",
   "metadata": {},
   "outputs": [],
   "source": [
    "text_mistral_adventure = [\"etre du hasard, il demanda en grondant avec empressement la raison des fuseaux noirs que les jeunes filles auraient étendus sur le marécage comme sur un lit. Signalé\", \"le relais fit à moi, et à mon tour, que j’entre en sommeilleur état. À chaque fois qu’il restait de ces longues heures, l’efflorescence se répand\", \"l’embranchement pour se rétablir et se reprendre après avoir traversé le fleuve sans se perdre dans les ruisseaux, si vifs et si rapides, que par ce fleuve le Colorado est'\"]"
   ]
  },
  {
   "cell_type": "code",
   "execution_count": 4,
   "id": "7c17c87b-ed0a-4705-bed4-21ece180aaf8",
   "metadata": {},
   "outputs": [],
   "source": [
    "text_really_written = [\"Les comédiens, craignant l’arquebusade, firent un mouvement de retraite et se réfugièrent derrière le chariot, où les femmes piaillaient comme des geais plumés vifs.\", \"notre conservation reposa sur lui seul. J’entendis bientôt haleter le pauvre garçon ; sa respiration devint courte et pressée. Je compris qu’il ne pouvait résister longtemps.« Laisse-moi ! laisse-moi ! lui dis-je.\", \"la rivière, laissa tomber la crosse de son fusil sur le sable et, croisant ses mains sur l’extrémité des doubles canons de son arme, il examina attentivement d’un regard circulaire l’immense vallée qui s’étendait à perte de vue autour de lui.\"]"
   ]
  },
  {
   "cell_type": "code",
   "execution_count": 9,
   "id": "9839c664-5b21-4169-9e43-e9d92c7926a2",
   "metadata": {},
   "outputs": [],
   "source": [
    "df = pd.DataFrame({\n",
    "    'mistral': text_mistral,\n",
    "    'mistradventure': text_mistral_adventure,\n",
    "    'author': text_really_written\n",
    "})"
   ]
  },
  {
   "cell_type": "code",
   "execution_count": 15,
   "id": "63a02281-a2ab-46f1-891a-c031166c950a",
   "metadata": {},
   "outputs": [
    {
     "data": {
      "application/vnd.jupyter.widget-view+json": {
       "model_id": "291ca6951fab41b98d39695fe2fda9d7",
       "version_major": 2,
       "version_minor": 0
      },
      "text/plain": [
       "modules.json:   0%|          | 0.00/229 [00:00<?, ?B/s]"
      ]
     },
     "metadata": {},
     "output_type": "display_data"
    },
    {
     "data": {
      "application/vnd.jupyter.widget-view+json": {
       "model_id": "2fdd2d4be0e84d72870782197db8dd2b",
       "version_major": 2,
       "version_minor": 0
      },
      "text/plain": [
       "config_sentence_transformers.json:   0%|          | 0.00/123 [00:00<?, ?B/s]"
      ]
     },
     "metadata": {},
     "output_type": "display_data"
    },
    {
     "data": {
      "application/vnd.jupyter.widget-view+json": {
       "model_id": "e5c72c7efbb9408d99e7a4ab88065c06",
       "version_major": 2,
       "version_minor": 0
      },
      "text/plain": [
       "README.md:   0%|          | 0.00/4.25k [00:00<?, ?B/s]"
      ]
     },
     "metadata": {},
     "output_type": "display_data"
    },
    {
     "data": {
      "application/vnd.jupyter.widget-view+json": {
       "model_id": "6fb39e170e9d44f3b9a913220ff3ff15",
       "version_major": 2,
       "version_minor": 0
      },
      "text/plain": [
       "sentence_bert_config.json:   0%|          | 0.00/53.0 [00:00<?, ?B/s]"
      ]
     },
     "metadata": {},
     "output_type": "display_data"
    },
    {
     "data": {
      "application/vnd.jupyter.widget-view+json": {
       "model_id": "3b7578df1fec44e7a171dc87d0b50cf9",
       "version_major": 2,
       "version_minor": 0
      },
      "text/plain": [
       "config.json:   0%|          | 0.00/727 [00:00<?, ?B/s]"
      ]
     },
     "metadata": {},
     "output_type": "display_data"
    },
    {
     "data": {
      "application/vnd.jupyter.widget-view+json": {
       "model_id": "eac57e84238b4d7cada4f2928c0396e3",
       "version_major": 2,
       "version_minor": 0
      },
      "text/plain": [
       "pytorch_model.bin:   0%|          | 0.00/443M [00:00<?, ?B/s]"
      ]
     },
     "metadata": {},
     "output_type": "display_data"
    },
    {
     "name": "stderr",
     "output_type": "stream",
     "text": [
      "/home/crazyjeannot/.local/lib/python3.10/site-packages/torch/_utils.py:831: UserWarning: TypedStorage is deprecated. It will be removed in the future and UntypedStorage will be the only storage class. This should only matter to you if you are using storages directly.  To access UntypedStorage directly, use tensor.untyped_storage() instead of tensor.storage()\n",
      "  return self.fget.__get__(instance, owner)()\n"
     ]
    },
    {
     "data": {
      "application/vnd.jupyter.widget-view+json": {
       "model_id": "eeda05c1fa9c44d4a51632bde47b3c23",
       "version_major": 2,
       "version_minor": 0
      },
      "text/plain": [
       "tokenizer_config.json:   0%|          | 0.00/463 [00:00<?, ?B/s]"
      ]
     },
     "metadata": {},
     "output_type": "display_data"
    },
    {
     "data": {
      "application/vnd.jupyter.widget-view+json": {
       "model_id": "82d9e7e8f2cb49a291b9523beaa0ee4e",
       "version_major": 2,
       "version_minor": 0
      },
      "text/plain": [
       "sentencepiece.bpe.model:   0%|          | 0.00/811k [00:00<?, ?B/s]"
      ]
     },
     "metadata": {},
     "output_type": "display_data"
    },
    {
     "data": {
      "application/vnd.jupyter.widget-view+json": {
       "model_id": "56cd4978307a4121927d893833b4d58b",
       "version_major": 2,
       "version_minor": 0
      },
      "text/plain": [
       "tokenizer.json:   0%|          | 0.00/1.40M [00:00<?, ?B/s]"
      ]
     },
     "metadata": {},
     "output_type": "display_data"
    },
    {
     "data": {
      "application/vnd.jupyter.widget-view+json": {
       "model_id": "a97f741e7eb04ee3bb8537e8174fcd48",
       "version_major": 2,
       "version_minor": 0
      },
      "text/plain": [
       "special_tokens_map.json:   0%|          | 0.00/298 [00:00<?, ?B/s]"
      ]
     },
     "metadata": {},
     "output_type": "display_data"
    },
    {
     "data": {
      "application/vnd.jupyter.widget-view+json": {
       "model_id": "25a06d2659484c7bb22533814b499727",
       "version_major": 2,
       "version_minor": 0
      },
      "text/plain": [
       "1_Pooling/config.json:   0%|          | 0.00/190 [00:00<?, ?B/s]"
      ]
     },
     "metadata": {},
     "output_type": "display_data"
    },
    {
     "name": "stderr",
     "output_type": "stream",
     "text": [
      "/home/crazyjeannot/.local/lib/python3.10/site-packages/torch/cuda/__init__.py:138: UserWarning: CUDA initialization: The NVIDIA driver on your system is too old (found version 9010). Please update your GPU driver by downloading and installing a new version from the URL: http://www.nvidia.com/Download/index.aspx Alternatively, go to: https://pytorch.org to install a PyTorch version that has been compiled with your version of the CUDA driver. (Triggered internally at ../c10/cuda/CUDAFunctions.cpp:108.)\n",
      "  return torch._C._cuda_getDeviceCount() > 0\n"
     ]
    }
   ],
   "source": [
    "model_name = \"dangvantuan/sentence-camembert-base\"\n",
    "model = SentenceTransformer(model_name)"
   ]
  },
  {
   "cell_type": "code",
   "execution_count": 20,
   "id": "846b7cb1-e58d-490f-a82c-4bfaf0cc4032",
   "metadata": {},
   "outputs": [],
   "source": [
    "def create_camembert_embeddings(dataframe):\n",
    "    # Encode text using the Sentence Transformers model\n",
    "    text_columns = list(dataframe.columns)\n",
    "    for col in text_columns:\n",
    "        # Encode sentences\n",
    "        embeddings = model.encode(dataframe[col].tolist())\n",
    "        # Create a single column with embeddings\n",
    "        dataframe[f\"{col}_embeddings\"] = embeddings.tolist()\n",
    "\n",
    "    return dataframe"
   ]
  },
  {
   "cell_type": "code",
   "execution_count": 22,
   "id": "c7a8fbc0-42b4-4386-ae49-65e83e918061",
   "metadata": {},
   "outputs": [],
   "source": [
    "embeddings = create_camembert_embeddings(df)"
   ]
  },
  {
   "cell_type": "code",
   "execution_count": 23,
   "id": "6c8bab2b-1538-4488-9410-b4199c0ed096",
   "metadata": {},
   "outputs": [
    {
     "data": {
      "text/html": [
       "<div>\n",
       "<style scoped>\n",
       "    .dataframe tbody tr th:only-of-type {\n",
       "        vertical-align: middle;\n",
       "    }\n",
       "\n",
       "    .dataframe tbody tr th {\n",
       "        vertical-align: top;\n",
       "    }\n",
       "\n",
       "    .dataframe thead th {\n",
       "        text-align: right;\n",
       "    }\n",
       "</style>\n",
       "<table border=\"1\" class=\"dataframe\">\n",
       "  <thead>\n",
       "    <tr style=\"text-align: right;\">\n",
       "      <th></th>\n",
       "      <th>mistral</th>\n",
       "      <th>mistradventure</th>\n",
       "      <th>author</th>\n",
       "      <th>mistral_embeddings</th>\n",
       "      <th>mistradventure_embeddings</th>\n",
       "      <th>author_embeddings</th>\n",
       "    </tr>\n",
       "  </thead>\n",
       "  <tbody>\n",
       "    <tr>\n",
       "      <th>0</th>\n",
       "      <td>, il tenta de sortir du char dans le délire du...</td>\n",
       "      <td>etre du hasard, il demanda en grondant avec em...</td>\n",
       "      <td>Les comédiens, craignant l’arquebusade, firent...</td>\n",
       "      <td>[-0.06357918679714203, -0.0030672757420688868,...</td>\n",
       "      <td>[-0.03583844006061554, 0.013624463230371475, -...</td>\n",
       "      <td>[-0.040596507489681244, -0.26965975761413574, ...</td>\n",
       "    </tr>\n",
       "    <tr>\n",
       "      <th>1</th>\n",
       "      <td>le sang-froid dû à son impatience ne lui fit p...</td>\n",
       "      <td>le relais fit à moi, et à mon tour, que j’entr...</td>\n",
       "      <td>notre conservation reposa sur lui seul. J’ente...</td>\n",
       "      <td>[-0.02474139630794525, -0.0957537442445755, 0....</td>\n",
       "      <td>[-0.010803376324474812, 0.050081368535757065, ...</td>\n",
       "      <td>[0.04936007410287857, -0.08624275028705597, 0....</td>\n",
       "    </tr>\n",
       "    <tr>\n",
       "      <th>2</th>\n",
       "      <td>une vallée qui devait être le lieu d’une proc...</td>\n",
       "      <td>l’embranchement pour se rétablir et se reprend...</td>\n",
       "      <td>la rivière, laissa tomber la crosse de son fus...</td>\n",
       "      <td>[0.02850963920354843, -0.06155106797814369, -0...</td>\n",
       "      <td>[0.20171844959259033, -0.16501009464263916, 0....</td>\n",
       "      <td>[0.0574314258992672, 0.11306938529014587, 0.02...</td>\n",
       "    </tr>\n",
       "  </tbody>\n",
       "</table>\n",
       "</div>"
      ],
      "text/plain": [
       "                                             mistral  \\\n",
       "0  , il tenta de sortir du char dans le délire du...   \n",
       "1  le sang-froid dû à son impatience ne lui fit p...   \n",
       "2   une vallée qui devait être le lieu d’une proc...   \n",
       "\n",
       "                                      mistradventure  \\\n",
       "0  etre du hasard, il demanda en grondant avec em...   \n",
       "1  le relais fit à moi, et à mon tour, que j’entr...   \n",
       "2  l’embranchement pour se rétablir et se reprend...   \n",
       "\n",
       "                                              author  \\\n",
       "0  Les comédiens, craignant l’arquebusade, firent...   \n",
       "1  notre conservation reposa sur lui seul. J’ente...   \n",
       "2  la rivière, laissa tomber la crosse de son fus...   \n",
       "\n",
       "                                  mistral_embeddings  \\\n",
       "0  [-0.06357918679714203, -0.0030672757420688868,...   \n",
       "1  [-0.02474139630794525, -0.0957537442445755, 0....   \n",
       "2  [0.02850963920354843, -0.06155106797814369, -0...   \n",
       "\n",
       "                           mistradventure_embeddings  \\\n",
       "0  [-0.03583844006061554, 0.013624463230371475, -...   \n",
       "1  [-0.010803376324474812, 0.050081368535757065, ...   \n",
       "2  [0.20171844959259033, -0.16501009464263916, 0....   \n",
       "\n",
       "                                   author_embeddings  \n",
       "0  [-0.040596507489681244, -0.26965975761413574, ...  \n",
       "1  [0.04936007410287857, -0.08624275028705597, 0....  \n",
       "2  [0.0574314258992672, 0.11306938529014587, 0.02...  "
      ]
     },
     "execution_count": 23,
     "metadata": {},
     "output_type": "execute_result"
    }
   ],
   "source": [
    "embeddings"
   ]
  },
  {
   "cell_type": "code",
   "execution_count": null,
   "id": "21ff6be9-eaeb-4fc4-ba93-8f511968bf18",
   "metadata": {},
   "outputs": [],
   "source": []
  },
  {
   "cell_type": "markdown",
   "id": "f3945c4b-1e0c-4aa3-8330-d06ba1320c06",
   "metadata": {},
   "source": [
    "## get similarity "
   ]
  },
  {
   "cell_type": "code",
   "execution_count": 27,
   "id": "1c4a1c8d-9060-4ab4-8102-386c17431b85",
   "metadata": {},
   "outputs": [],
   "source": [
    "from sklearn.metrics.pairwise import cosine_similarity\n",
    "from scipy.spatial.distance import cosine\n",
    "import numpy as np"
   ]
  },
  {
   "cell_type": "code",
   "execution_count": 24,
   "id": "07b43ebd-7c73-4d49-8306-28f1f0b66c95",
   "metadata": {},
   "outputs": [],
   "source": [
    "def compute_cosine_distance(row):\n",
    "    mistral_embedding = row['mistral_embeddings']\n",
    "    mistradventure_embedding = row['mistradventure_embeddings']\n",
    "    author_embedding = row['author_embeddings']\n",
    "\n",
    "    # Compute cosine distances\n",
    "    mistral_mistradventure_distance = cosine(mistral_embedding, mistradventure_embedding)\n",
    "    mistral_author_distance = cosine(mistral_embedding, author_embedding)\n",
    "    mistradventure_author_distance = cosine(mistradventure_embedding, author_embedding)\n",
    "\n",
    "    return mistral_mistradventure_distance, mistral_author_distance, mistradventure_author_distance\n"
   ]
  },
  {
   "cell_type": "code",
   "execution_count": 25,
   "id": "fb6b95b3-852b-44b1-91e4-7abc8fca5379",
   "metadata": {},
   "outputs": [],
   "source": [
    "def compute_cosine_distance(row):\n",
    "    mistral_embedding = row['mistral_embeddings']\n",
    "    mistradventure_embedding = row['mistradventure_embeddings']\n",
    "    author_embedding = row['author_embeddings']\n",
    "\n",
    "    # Compute cosine distances\n",
    "    mistral_mistradventure_distance = cosine(mistral_embedding, mistradventure_embedding)\n",
    "    mistral_author_distance = cosine(mistral_embedding, author_embedding)\n",
    "    mistradventure_author_distance = cosine(mistradventure_embedding, author_embedding)\n",
    "\n",
    "    return pd.Series([mistral_mistradventure_distance, mistral_author_distance, mistradventure_author_distance], index=['mistral_mistradventure_distance', 'mistral_author_distance', 'mistradventure_author_distance'])\n",
    "\n"
   ]
  },
  {
   "cell_type": "code",
   "execution_count": 28,
   "id": "b44d1fea-86b2-439f-9386-81a549bec854",
   "metadata": {},
   "outputs": [],
   "source": [
    "# Apply the function to each row and create a new DataFrame\n",
    "distances_df = embeddings.apply(compute_cosine_distance, axis=1)"
   ]
  },
  {
   "cell_type": "code",
   "execution_count": 29,
   "id": "2efcd0ba-ac0c-4ec7-95f5-8d22203832c2",
   "metadata": {},
   "outputs": [
    {
     "data": {
      "text/html": [
       "<div>\n",
       "<style scoped>\n",
       "    .dataframe tbody tr th:only-of-type {\n",
       "        vertical-align: middle;\n",
       "    }\n",
       "\n",
       "    .dataframe tbody tr th {\n",
       "        vertical-align: top;\n",
       "    }\n",
       "\n",
       "    .dataframe thead th {\n",
       "        text-align: right;\n",
       "    }\n",
       "</style>\n",
       "<table border=\"1\" class=\"dataframe\">\n",
       "  <thead>\n",
       "    <tr style=\"text-align: right;\">\n",
       "      <th></th>\n",
       "      <th>mistral_mistradventure_distance</th>\n",
       "      <th>mistral_author_distance</th>\n",
       "      <th>mistradventure_author_distance</th>\n",
       "    </tr>\n",
       "  </thead>\n",
       "  <tbody>\n",
       "    <tr>\n",
       "      <th>0</th>\n",
       "      <td>0.954952</td>\n",
       "      <td>0.676173</td>\n",
       "      <td>0.786971</td>\n",
       "    </tr>\n",
       "    <tr>\n",
       "      <th>1</th>\n",
       "      <td>0.652065</td>\n",
       "      <td>0.567579</td>\n",
       "      <td>0.581442</td>\n",
       "    </tr>\n",
       "    <tr>\n",
       "      <th>2</th>\n",
       "      <td>0.848209</td>\n",
       "      <td>0.699093</td>\n",
       "      <td>0.769038</td>\n",
       "    </tr>\n",
       "  </tbody>\n",
       "</table>\n",
       "</div>"
      ],
      "text/plain": [
       "   mistral_mistradventure_distance  mistral_author_distance  \\\n",
       "0                         0.954952                 0.676173   \n",
       "1                         0.652065                 0.567579   \n",
       "2                         0.848209                 0.699093   \n",
       "\n",
       "   mistradventure_author_distance  \n",
       "0                        0.786971  \n",
       "1                        0.581442  \n",
       "2                        0.769038  "
      ]
     },
     "execution_count": 29,
     "metadata": {},
     "output_type": "execute_result"
    }
   ],
   "source": [
    "distances_df"
   ]
  },
  {
   "cell_type": "code",
   "execution_count": null,
   "id": "05573f43-bdd2-43e6-b9f8-ed95c869c5e7",
   "metadata": {},
   "outputs": [],
   "source": []
  }
 ],
 "metadata": {
  "kernelspec": {
   "display_name": "Python 3 (ipykernel)",
   "language": "python",
   "name": "python3"
  },
  "language_info": {
   "codemirror_mode": {
    "name": "ipython",
    "version": 3
   },
   "file_extension": ".py",
   "mimetype": "text/x-python",
   "name": "python",
   "nbconvert_exporter": "python",
   "pygments_lexer": "ipython3",
   "version": "3.10.12"
  }
 },
 "nbformat": 4,
 "nbformat_minor": 5
}
